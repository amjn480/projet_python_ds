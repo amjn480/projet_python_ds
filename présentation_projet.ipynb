{
 "cells": [
  {
   "cell_type": "markdown",
   "metadata": {},
   "source": [
    "# Projet python pour la data science : détection de la langue d'un texte grâce aux chaînes de Markov\n",
    "\n",
    "Lors de ce projet python, nous avons décidé de prédire la langue d'un texte grâce aux chaînes de markov sur la base du chapitre 22 du livre \"Intelligence artificielle\" de Stuart Russel et Peter Norvig.\n",
    "\n",
    "Pour récupérer des corpus de textes dans différentes langues, nous avons décidé de scrapper des articles Wikipédia grâce à son API (https://fr.wikipedia.org/w/api.php). Nous avons utilisé 10 langues différentes pour essayer notre modèle :\n",
    "- Français\n",
    "- Esapagnol\n",
    "- Anglais\n",
    "- Allemand\n",
    "- African\n",
    "- Italien\n",
    "- Néerlandais\n",
    "- Polonais\n",
    "- Catalan\n",
    "- Suédois"
   ]
  },
  {
   "cell_type": "markdown",
   "metadata": {},
   "source": [
    "## Première étape : La récupération des données\n",
    "\n",
    "Dans un premier temps, nous utilisons l'API wikipédia pour récupérer des textes dans chaque langue"
   ]
  }
 ],
 "metadata": {
  "language_info": {
   "name": "python"
  }
 },
 "nbformat": 4,
 "nbformat_minor": 2
}
